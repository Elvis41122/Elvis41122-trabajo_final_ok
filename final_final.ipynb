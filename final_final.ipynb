{
 "cells": [
  {
   "cell_type": "code",
   "execution_count": null,
   "id": "8d373989",
   "metadata": {},
   "outputs": [],
   "source": [
    "import requests\n",
    "from bs4 import BeautifulSoup\n",
    "import pandas as pd\n",
    "\n",
    "\n",
    "baseurl = 'https://repositorio.ucv.edu.pe'\n",
    "\n",
    "headers = {\n",
    "    'User-Agent': 'Mozilla/5.0 (Macintosh; Intel Mac OS X 10_15_6) AppleWebKit/605.1.15 (KHTML, like Gecko) Version/14.0.3 Safari/605.1.15'\n",
    "}\n",
    "\n",
    "tesislinks = []\n",
    "for x in range(0,1):\n",
    "    r = requests.get(f'https://repositorio.ucv.edu.pe/recent-submissions?offset={x}')\n",
    "    soup = BeautifulSoup(r.content, \"html.parser\")\n",
    "    productlist = soup.find_all('h4', class_='artifact-title')\n",
    "    for item in productlist:\n",
    "        for link in item.find_all('a', href=True):\n",
    "            tesislinks.append(baseurl + link['href'] + '?show=full')"
   ]
  }
 ],
 "metadata": {
  "kernelspec": {
   "display_name": "Python 3",
   "language": "python",
   "name": "python3"
  },
  "language_info": {
   "codemirror_mode": {
    "name": "ipython",
    "version": 3
   },
   "file_extension": ".py",
   "mimetype": "text/x-python",
   "name": "python",
   "nbconvert_exporter": "python",
   "pygments_lexer": "ipython3",
   "version": "3.11.1 (tags/v3.11.1:a7a450f, Dec  6 2022, 19:58:39) [MSC v.1934 64 bit (AMD64)]"
  },
  "vscode": {
   "interpreter": {
    "hash": "b6cbfa5ebaa86ebe754ba1eceb7559501ce22fbb1e73364b748b64bdc9b36c41"
   }
  }
 },
 "nbformat": 4,
 "nbformat_minor": 5
}
