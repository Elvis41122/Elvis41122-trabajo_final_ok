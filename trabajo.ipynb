{
 "cells": [
  {
   "cell_type": "code",
   "execution_count": null,
   "id": "04d58e56",
   "metadata": {},
   "outputs": [],
   "source": [
    "import requests\n",
    "import bs4\n",
    "from bs4 import BeautifulSoup\n",
    "from urllib.parse import urljoin\n",
    "import pandas as pd\n",
    "import pandas as pd\n",
    "\n",
    "#si ya ejecutaste el bucle while debes volver a ejcutar esto para que tome la url base de nuevo\n",
    "url_inicial='https://renati.sunedu.gob.pe/handle/sunedu/199/simple-search?location=sunedu%2F199&query=&rpp=10&sort_by=score&order=desc&filter_field_1=subject&filter_type_1=equals&filter_value_1=Tesis'\n",
    "url_root='https://renati.sunedu.gob.pe/'\n",
    "r=requests.get(url_inicial)\n",
    "r.headers"
   ]
  },
  {
   "cell_type": "code",
   "execution_count": null,
   "id": "91ea72ea",
   "metadata": {},
   "outputs": [],
   "source": [
    "s=BeautifulSoup(r.text, 'lxml')\n",
    " \n",
    "lista_article=s.find_all('div', class_='row item-list-item')\n",
    "links_libros=[x.find('span').find('a').get('href') for x in lista_article]\n",
    "links_libros=[urljoin(url_root,i) for i in links_libros]\n",
    "links_libros"
   ]
  },
  {
   "cell_type": "code",
   "execution_count": null,
   "id": "aa15bcb5",
   "metadata": {},
   "outputs": [],
   "source": [
    "#funcion de obtener links\\\n",
    "#en esta funcion no referenciaba los parametros\n",
    "def get_url_items(sopa, url):\n",
    "    lista_article=sopa.find_all('div', class_='row item-list-item')\n",
    "    links_libros=[x.find('span').find('a').get('href') for x in lista_article]\n",
    "    links_libros=[urljoin(url,i) for i in links_libros]\n",
    "    return links_libros"
   ]
  },
  {
   "cell_type": "code",
   "execution_count": null,
   "id": "ece9437f",
   "metadata": {},
   "outputs": [],
   "source": [
    "links_items=[]\n",
    "i=0\n",
    "while i<1:\n",
    "    i+=1\n",
    "    print(f'Estoy en la pagina {url_inicial}')\n",
    "    r_pag=requests.get(url_inicial)\n",
    "    s_p=BeautifulSoup(r_pag.text,'lxml')\n",
    "    links=get_url_items(s_p, url_inicial)\n",
    "    pagination_a=s_p.select('li > a')\n",
    "    if not pagination_a or not pagination_a[0].get('href'):\n",
    "        break\n",
    "    url_inicial = urljoin(url_inicial, pagination_a[0].get('href'))\n",
    "    links_items.append(links)"
   ]
  },
  {
   "cell_type": "code",
   "execution_count": null,
   "id": "0b6dadef",
   "metadata": {},
   "outputs": [],
   "source": [
    "list_scraper=[]\n",
    "for i in links_items:\n",
    "    for j in i:\n",
    "        list_scraper.append(j)\n",
    "list_scraper"
   ]
  },
  {
   "cell_type": "code",
   "execution_count": null,
   "id": "6f3ca561",
   "metadata": {},
   "outputs": [],
   "source": [
    "a=list_scraper[0] # tengo que poner el numero de la lista para que me saque los valores\n",
    "r_item=requests.get(a)\n",
    "s_item=BeautifulSoup(r_item.text, 'lxml')\n",
    "\n",
    "autor = s_item.find_all('span', class_='metadataFieldValue')\n",
    "cero=[]\n",
    "count =0\n",
    "for i in autor :\n",
    "  if count <9:\n",
    "    cero.append(i.text)\n",
    "  else:\n",
    "    break\n",
    "  count +=1\n",
    "\n",
    "print(cero)"
   ]
  }
 ],
 "metadata": {
  "kernelspec": {
   "display_name": "Python 3 (ipykernel)",
   "language": "python",
   "name": "python3"
  },
  "language_info": {
   "codemirror_mode": {
    "name": "ipython",
    "version": 3
   },
   "file_extension": ".py",
   "mimetype": "text/x-python",
   "name": "python",
   "nbconvert_exporter": "python",
   "pygments_lexer": "ipython3",
   "version": "3.9.12"
  }
 },
 "nbformat": 4,
 "nbformat_minor": 5
}
