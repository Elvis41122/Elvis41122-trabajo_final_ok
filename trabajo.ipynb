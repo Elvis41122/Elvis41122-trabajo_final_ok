{
 "cells": [
  {
   "cell_type": "code",
   "execution_count": null,
   "id": "04d58e56",
   "metadata": {},
   "outputs": [],
   "source": [
    "import requests\n",
    "import bs4\n",
    "from bs4 import BeautifulSoup\n",
    "from urllib.parse import urljoin\n",
    "import pandas as pd\n",
    "import pandas as pd\n",
    "\n",
    "#si ya ejecutaste el bucle while debes volver a ejcutar esto para que tome la url base de nuevo\n",
    "url_inicial='https://renati.sunedu.gob.pe/handle/sunedu/199/simple-search?location=sunedu%2F199&query=&rpp=10&sort_by=score&order=desc&filter_field_1=subject&filter_type_1=equals&filter_value_1=Tesis'\n",
    "url_root='https://renati.sunedu.gob.pe/'\n",
    "r=requests.get(url_inicial)\n",
    "r.headers"
   ]
  },
  {
   "cell_type": "code",
   "execution_count": null,
   "id": "91ea72ea",
   "metadata": {},
   "outputs": [],
   "source": [
    "s=BeautifulSoup(r.text, 'lxml')\n",
    " \n",
    "lista_article=s.find_all('div', class_='row item-list-item')\n",
    "links_libros=[x.find('span').find('a').get('href') for x in lista_article]\n",
    "links_libros=[urljoin(url_root,i) for i in links_libros]\n",
    "links_libros"
   ]
  },
  {
   "cell_type": "code",
   "execution_count": null,
   "id": "aa15bcb5",
   "metadata": {},
   "outputs": [],
   "source": [
    "#funcion de obtener links\\\n",
    "#en esta funcion no referenciaba los parametros\n",
    "def get_url_items(sopa, url):\n",
    "    lista_article=sopa.find_all('div', class_='row item-list-item')\n",
    "    links_libros=[x.find('span').find('a').get('href') for x in lista_article]\n",
    "    links_libros=[urljoin(url,i) for i in links_libros]\n",
    "    return links_libros"
   ]
  }
 ],
 "metadata": {
  "kernelspec": {
   "display_name": "Python 3 (ipykernel)",
   "language": "python",
   "name": "python3"
  },
  "language_info": {
   "codemirror_mode": {
    "name": "ipython",
    "version": 3
   },
   "file_extension": ".py",
   "mimetype": "text/x-python",
   "name": "python",
   "nbconvert_exporter": "python",
   "pygments_lexer": "ipython3",
   "version": "3.9.12"
  }
 },
 "nbformat": 4,
 "nbformat_minor": 5
}
