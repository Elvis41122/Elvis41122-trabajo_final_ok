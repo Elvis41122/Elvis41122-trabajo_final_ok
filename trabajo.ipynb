{
 "cells": [
  {
   "cell_type": "code",
   "execution_count": null,
   "id": "04d58e56",
   "metadata": {},
   "outputs": [],
   "source": [
    "import requests\n",
    "import bs4\n",
    "from bs4 import BeautifulSoup\n",
    "from urllib.parse import urljoin\n",
    "import pandas as pd\n",
    "import pandas as pd\n",
    "\n",
    "#si ya ejecutaste el bucle while debes volver a ejcutar esto para que tome la url base de nuevo\n",
    "url_inicial='https://renati.sunedu.gob.pe/handle/sunedu/199/simple-search?location=sunedu%2F199&query=&rpp=10&sort_by=score&order=desc&filter_field_1=subject&filter_type_1=equals&filter_value_1=Tesis'\n",
    "url_root='https://renati.sunedu.gob.pe/'\n",
    "r=requests.get(url_inicial)\n",
    "r.headers"
   ]
  },
  {
   "cell_type": "code",
   "execution_count": null,
   "id": "91ea72ea",
   "metadata": {},
   "outputs": [],
   "source": [
    "s=BeautifulSoup(r.text, 'lxml')\n",
    " \n",
    "lista_article=s.find_all('div', class_='row item-list-item')\n",
    "links_libros=[x.find('span').find('a').get('href') for x in lista_article]\n",
    "links_libros=[urljoin(url_root,i) for i in links_libros]\n",
    "links_libros"
   ]
  },
  {
   "cell_type": "code",
   "execution_count": null,
   "id": "aa15bcb5",
   "metadata": {},
   "outputs": [],
   "source": [
    "#funcion de obtener links\\\n",
    "#en esta funcion no referenciaba los parametros\n",
    "def get_url_items(sopa, url):\n",
    "    lista_article=sopa.find_all('div', class_='row item-list-item')\n",
    "    links_libros=[x.find('span').find('a').get('href') for x in lista_article]\n",
    "    links_libros=[urljoin(url,i) for i in links_libros]\n",
    "    return links_libros"
   ]
  },
  {
   "cell_type": "code",
   "execution_count": null,
   "id": "ece9437f",
   "metadata": {},
   "outputs": [],
   "source": [
    "links_items=[]\n",
    "i=0\n",
    "while i<1:\n",
    "    i+=1\n",
    "    print(f'Estoy en la pagina {url_inicial}')\n",
    "    r_pag=requests.get(url_inicial)\n",
    "    s_p=BeautifulSoup(r_pag.text,'lxml')\n",
    "    links=get_url_items(s_p, url_inicial)\n",
    "    pagination_a=s_p.select('li > a')\n",
    "    if not pagination_a or not pagination_a[0].get('href'):\n",
    "        break\n",
    "    url_inicial = urljoin(url_inicial, pagination_a[0].get('href'))\n",
    "    links_items.append(links)"
   ]
  },
  {
   "cell_type": "code",
   "execution_count": null,
   "id": "0b6dadef",
   "metadata": {},
   "outputs": [],
   "source": [
    "list_scraper=[]\n",
    "for i in links_items:\n",
    "    for j in i:\n",
    "        list_scraper.append(j)\n",
    "list_scraper"
   ]
  },
  {
   "cell_type": "code",
   "execution_count": null,
   "id": "6f3ca561",
   "metadata": {},
   "outputs": [],
   "source": [
    "a=list_scraper[0] # tengo que poner el numero de la lista para que me saque los valores\n",
    "r_item=requests.get(a)\n",
    "s_item=BeautifulSoup(r_item.text, 'lxml')\n",
    "\n",
    "autor = s_item.find_all('span', class_='metadataFieldValue')\n",
    "cero=[]\n",
    "count =0\n",
    "for i in autor :\n",
    "  if count <9:\n",
    "    cero.append(i.text)\n",
    "  else:\n",
    "    break\n",
    "  count +=1\n",
    "\n",
    "print(cero)"
   ]
  },
  {
   "cell_type": "code",
   "execution_count": null,
   "id": "4d06d2be",
   "metadata": {},
   "outputs": [],
   "source": [
    "b=list_scraper[1]\n",
    "r_item=requests.get(b)\n",
    "s_item=BeautifulSoup(r_item.text, 'lxml')\n",
    "\n",
    "autor = s_item.find_all('span', class_='metadataFieldValue')\n",
    "uno=[]\n",
    "count =0\n",
    "for i in autor :\n",
    "  if count <9:\n",
    "    uno.append(i.text)\n",
    "  else:\n",
    "    break\n",
    "  count +=1\n",
    "\n",
    "print(uno)"
   ]
  },
  {
   "cell_type": "code",
   "execution_count": null,
   "id": "56d926cb",
   "metadata": {},
   "outputs": [],
   "source": [
    "c=list_scraper[2]\n",
    "r_item=requests.get(c)\n",
    "s_item=BeautifulSoup(r_item.text, 'lxml')\n",
    "\n",
    "autor = s_item.find_all('span', class_='metadataFieldValue')\n",
    "dos=[]\n",
    "count =0\n",
    "for i in autor :\n",
    "  if count <9:\n",
    "    dos.append(i.text)\n",
    "  else:\n",
    "    break\n",
    "  count +=1\n",
    "\n",
    "print(dos)"
   ]
  },
  {
   "cell_type": "code",
   "execution_count": null,
   "id": "01e14d2b",
   "metadata": {},
   "outputs": [],
   "source": [
    "d=list_scraper[3]\n",
    "r_item=requests.get(d)\n",
    "s_item=BeautifulSoup(r_item.text, 'lxml')\n",
    "\n",
    "autor = s_item.find_all('span', class_='metadataFieldValue')\n",
    "tres=[]\n",
    "count =0\n",
    "for i in autor :\n",
    "  if count <9:\n",
    "    tres.append(i.text)\n",
    "  else:\n",
    "    break\n",
    "  count +=1\n",
    "\n",
    "print(tres)d=list_scraper[3]\n",
    "r_item=requests.get(d)\n",
    "s_item=BeautifulSoup(r_item.text, 'lxml')\n",
    "\n",
    "autor = s_item.find_all('span', class_='metadataFieldValue')\n",
    "tres=[]\n",
    "count =0\n",
    "for i in autor :\n",
    "  if count <9:\n",
    "    tres.append(i.text)\n",
    "  else:\n",
    "    break\n",
    "  count +=1\n",
    "\n",
    "print(tres)"
   ]
  },
  {
   "cell_type": "code",
   "execution_count": null,
   "id": "79f5af4a",
   "metadata": {},
   "outputs": [],
   "source": [
    "e=list_scraper[4]\n",
    "r_item=requests.get(e)\n",
    "s_item=BeautifulSoup(r_item.text, 'lxml')\n",
    "\n",
    "autor = s_item.find_all('span', class_='metadataFieldValue')\n",
    "cuatro=[]\n",
    "count =0\n",
    "for i in autor :\n",
    "  if count <9:\n",
    "    cuatro.append(i.text)\n",
    "  else:\n",
    "    break\n",
    "  count +=1\n",
    "\n",
    "print(cuatro)"
   ]
  },
  {
   "cell_type": "code",
   "execution_count": null,
   "id": "89c57faa",
   "metadata": {},
   "outputs": [],
   "source": [
    "f=list_scraper[5]\n",
    "r_item=requests.get(f)\n",
    "s_item=BeautifulSoup(r_item.text, 'lxml')\n",
    "\n",
    "autor = s_item.find_all('span', class_='metadataFieldValue')\n",
    "cinco=[]\n",
    "count =0\n",
    "for i in autor :\n",
    "  if count <9:\n",
    "    cinco.append(i.text)\n",
    "  else:\n",
    "    break\n",
    "  count +=1\n",
    "\n",
    "print(cinco)"
   ]
  },
  {
   "cell_type": "code",
   "execution_count": null,
   "id": "752b3ea1",
   "metadata": {},
   "outputs": [],
   "source": [
    "g=list_scraper[6]\n",
    "r_item=requests.get(g)\n",
    "s_item=BeautifulSoup(r_item.text, 'lxml')\n",
    "\n",
    "autor = s_item.find_all('span', class_='metadataFieldValue')\n",
    "nose=[]\n",
    "count =0\n",
    "for i in autor :\n",
    "  if count <9:\n",
    "    nose.append(i.text)\n",
    "  else:\n",
    "    break\n",
    "  count +=1\n",
    "\n",
    "print(nose)"
   ]
  }
 ],
 "metadata": {
  "kernelspec": {
   "display_name": "Python 3",
   "language": "python",
   "name": "python3"
  },
  "language_info": {
   "codemirror_mode": {
    "name": "ipython",
    "version": 3
   },
   "file_extension": ".py",
   "mimetype": "text/x-python",
   "name": "python",
   "nbconvert_exporter": "python",
   "pygments_lexer": "ipython3",
   "version": "3.10.8 (tags/v3.10.8:aaaf517, Oct 11 2022, 16:50:30) [MSC v.1933 64 bit (AMD64)]"
  },
  "vscode": {
   "interpreter": {
    "hash": "66eba28a75a64fbe1a9b9c30d27f7c856726c51cbbef86297708eae4ce175db0"
   }
  }
 },
 "nbformat": 4,
 "nbformat_minor": 5
}
